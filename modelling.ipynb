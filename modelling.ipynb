{
 "cells": [
  {
   "cell_type": "code",
   "execution_count": 1,
   "metadata": {},
   "outputs": [
    {
     "name": "stderr",
     "output_type": "stream",
     "text": [
      "Using TensorFlow backend.\n",
      "/Users/yuewoo/opt/anaconda3/lib/python3.7/site-packages/lightgbm/__init__.py:48: UserWarning: Starting from version 2.2.1, the library file in distribution wheels for macOS is built by the Apple Clang (Xcode_8.3.3) compiler.\n",
      "This means that in case of installing LightGBM from PyPI via the ``pip install lightgbm`` command, you don't need to install the gcc compiler anymore.\n",
      "Instead of that, you need to install the OpenMP library, which is required for running LightGBM on the system with the Apple Clang compiler.\n",
      "You can install the OpenMP library by the following command: ``brew install libomp``.\n",
      "  \"You can install the OpenMP library by the following command: ``brew install libomp``.\", UserWarning)\n"
     ]
    }
   ],
   "source": [
    "import os\n",
    "import pandas as pd\n",
    "import numpy as np\n",
    "import matplotlib.pyplot as plt\n",
    "%matplotlib inline\n",
    "from sklearn.pipeline import make_pipeline\n",
    "from sklearn.preprocessing import OneHotEncoder, StandardScaler\n",
    "from sklearn.impute import SimpleImputer\n",
    "from sklearn.linear_model import LogisticRegression\n",
    "from sklearn.model_selection import cross_validate, StratifiedKFold\n",
    "from sklearn.tree import DecisionTreeClassifier, export_graphviz\n",
    "from sklearn.ensemble import RandomForestClassifier\n",
    "from sklearn.compose import make_column_transformer, ColumnTransformer\n",
    "from sklearn.metrics import confusion_matrix, precision_score, recall_score, \\\n",
    "average_precision_score, precision_recall_curve, f1_score, roc_auc_score\n",
    "from sklearn.model_selection import GridSearchCV\n",
    "from sklearn.ensemble import RandomForestClassifier, GradientBoostingClassifier\n",
    "from keras.layers import Dense, Input\n",
    "from keras import initializers\n",
    "from keras import regularizers\n",
    "from keras.models import Model, Sequential\n",
    "from keras.callbacks import ModelCheckpoint, TensorBoard, EarlyStopping\n",
    "import lightgbm as lgb\n",
    "import seaborn as sns\n",
    "from IPython.display import Image"
   ]
  },
  {
   "cell_type": "code",
   "execution_count": 2,
   "metadata": {},
   "outputs": [],
   "source": [
    "train = pd.read_csv('../SepsisData/train.psv', sep = '|')\n",
    "val = pd.read_csv('../SepsisData/validation.psv', sep = '|')"
   ]
  },
  {
   "cell_type": "code",
   "execution_count": 3,
   "metadata": {},
   "outputs": [
    {
     "data": {
      "text/html": [
       "<div>\n",
       "<style scoped>\n",
       "    .dataframe tbody tr th:only-of-type {\n",
       "        vertical-align: middle;\n",
       "    }\n",
       "\n",
       "    .dataframe tbody tr th {\n",
       "        vertical-align: top;\n",
       "    }\n",
       "\n",
       "    .dataframe thead th {\n",
       "        text-align: right;\n",
       "    }\n",
       "</style>\n",
       "<table border=\"1\" class=\"dataframe\">\n",
       "  <thead>\n",
       "    <tr style=\"text-align: right;\">\n",
       "      <th></th>\n",
       "      <th>HR</th>\n",
       "      <th>O2Sat</th>\n",
       "      <th>Temp</th>\n",
       "      <th>SBP</th>\n",
       "      <th>MAP</th>\n",
       "      <th>DBP</th>\n",
       "      <th>Resp</th>\n",
       "      <th>EtCO2</th>\n",
       "      <th>BaseExcess</th>\n",
       "      <th>HCO3</th>\n",
       "      <th>...</th>\n",
       "      <th>WBC</th>\n",
       "      <th>Fibrinogen</th>\n",
       "      <th>Platelets</th>\n",
       "      <th>Age</th>\n",
       "      <th>Gender</th>\n",
       "      <th>Unit1</th>\n",
       "      <th>Unit2</th>\n",
       "      <th>HospAdmTime</th>\n",
       "      <th>ICULOS</th>\n",
       "      <th>SepsisLabel</th>\n",
       "    </tr>\n",
       "  </thead>\n",
       "  <tbody>\n",
       "    <tr>\n",
       "      <td>0</td>\n",
       "      <td>80.0</td>\n",
       "      <td>100.0</td>\n",
       "      <td>36.50</td>\n",
       "      <td>121.00</td>\n",
       "      <td>58.0</td>\n",
       "      <td>41.00</td>\n",
       "      <td>13.5</td>\n",
       "      <td>NaN</td>\n",
       "      <td>1.0</td>\n",
       "      <td>25.0</td>\n",
       "      <td>...</td>\n",
       "      <td>9.9</td>\n",
       "      <td>223.0</td>\n",
       "      <td>160.0</td>\n",
       "      <td>77.27</td>\n",
       "      <td>1</td>\n",
       "      <td>0.0</td>\n",
       "      <td>1.0</td>\n",
       "      <td>-69.14</td>\n",
       "      <td>3</td>\n",
       "      <td>0</td>\n",
       "    </tr>\n",
       "    <tr>\n",
       "      <td>1</td>\n",
       "      <td>76.0</td>\n",
       "      <td>100.0</td>\n",
       "      <td>36.25</td>\n",
       "      <td>113.25</td>\n",
       "      <td>61.0</td>\n",
       "      <td>41.50</td>\n",
       "      <td>12.0</td>\n",
       "      <td>NaN</td>\n",
       "      <td>1.0</td>\n",
       "      <td>25.0</td>\n",
       "      <td>...</td>\n",
       "      <td>9.9</td>\n",
       "      <td>NaN</td>\n",
       "      <td>NaN</td>\n",
       "      <td>77.27</td>\n",
       "      <td>1</td>\n",
       "      <td>0.0</td>\n",
       "      <td>1.0</td>\n",
       "      <td>-69.14</td>\n",
       "      <td>4</td>\n",
       "      <td>0</td>\n",
       "    </tr>\n",
       "    <tr>\n",
       "      <td>2</td>\n",
       "      <td>80.0</td>\n",
       "      <td>100.0</td>\n",
       "      <td>36.25</td>\n",
       "      <td>132.75</td>\n",
       "      <td>71.5</td>\n",
       "      <td>46.25</td>\n",
       "      <td>12.0</td>\n",
       "      <td>NaN</td>\n",
       "      <td>NaN</td>\n",
       "      <td>NaN</td>\n",
       "      <td>...</td>\n",
       "      <td>NaN</td>\n",
       "      <td>NaN</td>\n",
       "      <td>NaN</td>\n",
       "      <td>77.27</td>\n",
       "      <td>1</td>\n",
       "      <td>0.0</td>\n",
       "      <td>1.0</td>\n",
       "      <td>-69.14</td>\n",
       "      <td>5</td>\n",
       "      <td>0</td>\n",
       "    </tr>\n",
       "    <tr>\n",
       "      <td>3</td>\n",
       "      <td>78.0</td>\n",
       "      <td>100.0</td>\n",
       "      <td>36.10</td>\n",
       "      <td>103.50</td>\n",
       "      <td>58.0</td>\n",
       "      <td>43.00</td>\n",
       "      <td>12.0</td>\n",
       "      <td>NaN</td>\n",
       "      <td>-3.0</td>\n",
       "      <td>NaN</td>\n",
       "      <td>...</td>\n",
       "      <td>NaN</td>\n",
       "      <td>NaN</td>\n",
       "      <td>NaN</td>\n",
       "      <td>77.27</td>\n",
       "      <td>1</td>\n",
       "      <td>0.0</td>\n",
       "      <td>1.0</td>\n",
       "      <td>-69.14</td>\n",
       "      <td>6</td>\n",
       "      <td>0</td>\n",
       "    </tr>\n",
       "    <tr>\n",
       "      <td>4</td>\n",
       "      <td>74.0</td>\n",
       "      <td>100.0</td>\n",
       "      <td>36.00</td>\n",
       "      <td>128.75</td>\n",
       "      <td>69.5</td>\n",
       "      <td>44.50</td>\n",
       "      <td>12.5</td>\n",
       "      <td>NaN</td>\n",
       "      <td>-3.0</td>\n",
       "      <td>NaN</td>\n",
       "      <td>...</td>\n",
       "      <td>NaN</td>\n",
       "      <td>NaN</td>\n",
       "      <td>NaN</td>\n",
       "      <td>77.27</td>\n",
       "      <td>1</td>\n",
       "      <td>0.0</td>\n",
       "      <td>1.0</td>\n",
       "      <td>-69.14</td>\n",
       "      <td>7</td>\n",
       "      <td>0</td>\n",
       "    </tr>\n",
       "    <tr>\n",
       "      <td>...</td>\n",
       "      <td>...</td>\n",
       "      <td>...</td>\n",
       "      <td>...</td>\n",
       "      <td>...</td>\n",
       "      <td>...</td>\n",
       "      <td>...</td>\n",
       "      <td>...</td>\n",
       "      <td>...</td>\n",
       "      <td>...</td>\n",
       "      <td>...</td>\n",
       "      <td>...</td>\n",
       "      <td>...</td>\n",
       "      <td>...</td>\n",
       "      <td>...</td>\n",
       "      <td>...</td>\n",
       "      <td>...</td>\n",
       "      <td>...</td>\n",
       "      <td>...</td>\n",
       "      <td>...</td>\n",
       "      <td>...</td>\n",
       "      <td>...</td>\n",
       "    </tr>\n",
       "    <tr>\n",
       "      <td>1170441</td>\n",
       "      <td>52.0</td>\n",
       "      <td>95.0</td>\n",
       "      <td>NaN</td>\n",
       "      <td>92.00</td>\n",
       "      <td>86.0</td>\n",
       "      <td>78.00</td>\n",
       "      <td>14.0</td>\n",
       "      <td>NaN</td>\n",
       "      <td>NaN</td>\n",
       "      <td>NaN</td>\n",
       "      <td>...</td>\n",
       "      <td>NaN</td>\n",
       "      <td>NaN</td>\n",
       "      <td>NaN</td>\n",
       "      <td>61.00</td>\n",
       "      <td>1</td>\n",
       "      <td>NaN</td>\n",
       "      <td>NaN</td>\n",
       "      <td>-11.28</td>\n",
       "      <td>16</td>\n",
       "      <td>0</td>\n",
       "    </tr>\n",
       "    <tr>\n",
       "      <td>1170442</td>\n",
       "      <td>54.0</td>\n",
       "      <td>97.0</td>\n",
       "      <td>37.10</td>\n",
       "      <td>92.00</td>\n",
       "      <td>86.0</td>\n",
       "      <td>80.00</td>\n",
       "      <td>13.0</td>\n",
       "      <td>NaN</td>\n",
       "      <td>NaN</td>\n",
       "      <td>NaN</td>\n",
       "      <td>...</td>\n",
       "      <td>NaN</td>\n",
       "      <td>NaN</td>\n",
       "      <td>NaN</td>\n",
       "      <td>61.00</td>\n",
       "      <td>1</td>\n",
       "      <td>NaN</td>\n",
       "      <td>NaN</td>\n",
       "      <td>-11.28</td>\n",
       "      <td>17</td>\n",
       "      <td>0</td>\n",
       "    </tr>\n",
       "    <tr>\n",
       "      <td>1170443</td>\n",
       "      <td>58.0</td>\n",
       "      <td>97.0</td>\n",
       "      <td>NaN</td>\n",
       "      <td>106.00</td>\n",
       "      <td>90.0</td>\n",
       "      <td>78.00</td>\n",
       "      <td>12.0</td>\n",
       "      <td>NaN</td>\n",
       "      <td>NaN</td>\n",
       "      <td>NaN</td>\n",
       "      <td>...</td>\n",
       "      <td>NaN</td>\n",
       "      <td>NaN</td>\n",
       "      <td>NaN</td>\n",
       "      <td>61.00</td>\n",
       "      <td>1</td>\n",
       "      <td>NaN</td>\n",
       "      <td>NaN</td>\n",
       "      <td>-11.28</td>\n",
       "      <td>18</td>\n",
       "      <td>0</td>\n",
       "    </tr>\n",
       "    <tr>\n",
       "      <td>1170444</td>\n",
       "      <td>52.0</td>\n",
       "      <td>97.0</td>\n",
       "      <td>NaN</td>\n",
       "      <td>144.00</td>\n",
       "      <td>109.0</td>\n",
       "      <td>90.00</td>\n",
       "      <td>12.0</td>\n",
       "      <td>NaN</td>\n",
       "      <td>NaN</td>\n",
       "      <td>NaN</td>\n",
       "      <td>...</td>\n",
       "      <td>NaN</td>\n",
       "      <td>NaN</td>\n",
       "      <td>NaN</td>\n",
       "      <td>61.00</td>\n",
       "      <td>1</td>\n",
       "      <td>NaN</td>\n",
       "      <td>NaN</td>\n",
       "      <td>-11.28</td>\n",
       "      <td>19</td>\n",
       "      <td>0</td>\n",
       "    </tr>\n",
       "    <tr>\n",
       "      <td>1170445</td>\n",
       "      <td>50.0</td>\n",
       "      <td>97.0</td>\n",
       "      <td>NaN</td>\n",
       "      <td>152.00</td>\n",
       "      <td>104.0</td>\n",
       "      <td>89.00</td>\n",
       "      <td>16.0</td>\n",
       "      <td>NaN</td>\n",
       "      <td>NaN</td>\n",
       "      <td>NaN</td>\n",
       "      <td>...</td>\n",
       "      <td>NaN</td>\n",
       "      <td>NaN</td>\n",
       "      <td>NaN</td>\n",
       "      <td>61.00</td>\n",
       "      <td>1</td>\n",
       "      <td>NaN</td>\n",
       "      <td>NaN</td>\n",
       "      <td>-11.28</td>\n",
       "      <td>20</td>\n",
       "      <td>0</td>\n",
       "    </tr>\n",
       "  </tbody>\n",
       "</table>\n",
       "<p>1170446 rows × 41 columns</p>\n",
       "</div>"
      ],
      "text/plain": [
       "           HR  O2Sat   Temp     SBP    MAP    DBP  Resp  EtCO2  BaseExcess  \\\n",
       "0        80.0  100.0  36.50  121.00   58.0  41.00  13.5    NaN         1.0   \n",
       "1        76.0  100.0  36.25  113.25   61.0  41.50  12.0    NaN         1.0   \n",
       "2        80.0  100.0  36.25  132.75   71.5  46.25  12.0    NaN         NaN   \n",
       "3        78.0  100.0  36.10  103.50   58.0  43.00  12.0    NaN        -3.0   \n",
       "4        74.0  100.0  36.00  128.75   69.5  44.50  12.5    NaN        -3.0   \n",
       "...       ...    ...    ...     ...    ...    ...   ...    ...         ...   \n",
       "1170441  52.0   95.0    NaN   92.00   86.0  78.00  14.0    NaN         NaN   \n",
       "1170442  54.0   97.0  37.10   92.00   86.0  80.00  13.0    NaN         NaN   \n",
       "1170443  58.0   97.0    NaN  106.00   90.0  78.00  12.0    NaN         NaN   \n",
       "1170444  52.0   97.0    NaN  144.00  109.0  90.00  12.0    NaN         NaN   \n",
       "1170445  50.0   97.0    NaN  152.00  104.0  89.00  16.0    NaN         NaN   \n",
       "\n",
       "         HCO3  ...  WBC  Fibrinogen  Platelets    Age  Gender  Unit1  Unit2  \\\n",
       "0        25.0  ...  9.9       223.0      160.0  77.27       1    0.0    1.0   \n",
       "1        25.0  ...  9.9         NaN        NaN  77.27       1    0.0    1.0   \n",
       "2         NaN  ...  NaN         NaN        NaN  77.27       1    0.0    1.0   \n",
       "3         NaN  ...  NaN         NaN        NaN  77.27       1    0.0    1.0   \n",
       "4         NaN  ...  NaN         NaN        NaN  77.27       1    0.0    1.0   \n",
       "...       ...  ...  ...         ...        ...    ...     ...    ...    ...   \n",
       "1170441   NaN  ...  NaN         NaN        NaN  61.00       1    NaN    NaN   \n",
       "1170442   NaN  ...  NaN         NaN        NaN  61.00       1    NaN    NaN   \n",
       "1170443   NaN  ...  NaN         NaN        NaN  61.00       1    NaN    NaN   \n",
       "1170444   NaN  ...  NaN         NaN        NaN  61.00       1    NaN    NaN   \n",
       "1170445   NaN  ...  NaN         NaN        NaN  61.00       1    NaN    NaN   \n",
       "\n",
       "         HospAdmTime  ICULOS  SepsisLabel  \n",
       "0             -69.14       3            0  \n",
       "1             -69.14       4            0  \n",
       "2             -69.14       5            0  \n",
       "3             -69.14       6            0  \n",
       "4             -69.14       7            0  \n",
       "...              ...     ...          ...  \n",
       "1170441       -11.28      16            0  \n",
       "1170442       -11.28      17            0  \n",
       "1170443       -11.28      18            0  \n",
       "1170444       -11.28      19            0  \n",
       "1170445       -11.28      20            0  \n",
       "\n",
       "[1170446 rows x 41 columns]"
      ]
     },
     "execution_count": 3,
     "metadata": {},
     "output_type": "execute_result"
    }
   ],
   "source": [
    "train"
   ]
  },
  {
   "cell_type": "code",
   "execution_count": 4,
   "metadata": {},
   "outputs": [],
   "source": [
    "def feature_engineer_hr(train):\n",
    "    train.loc[(train['HR'] >= 100) & (train['Age'] >= 10 ),\n",
    "            'custom_hr'] = 'abnormal'\n",
    "    train.loc[(train['HR'] < 100) & (train['HR'] > 60) & (train['Age'] >= 10 ),\n",
    "            'custom_hr'] = 'normal'\n",
    "    train.loc[(train['HR'] >= 70) & (train['HR'] < 190) & (train['Age'] < 10 ),\n",
    "            'custom_hr'] = 'normal'\n",
    "    train.loc[((train['HR'] < 70) | (train['HR'] >= 190)) & (train['Age'] < 10 ),\n",
    "            'custom_hr'] = 'abnormal'\n",
    "    train['custom_hr'].fillna('Missing', inplace=True)\n",
    "    return train"
   ]
  },
  {
   "cell_type": "code",
   "execution_count": 5,
   "metadata": {},
   "outputs": [],
   "source": [
    "def feature_engineer_temp(train):\n",
    "    train.loc[(train['Temp'] >= 36.4) & (train['Temp'] < 37.6), \n",
    "            'custom_temp'] = 'normal'\n",
    "    train.loc[(train['Temp'] < 36.4) | (train['Temp'] >= 37.6), \n",
    "            'custom_temp'] = 'abnormal'\n",
    "\n",
    "    train['custom_temp'].fillna('Missing', inplace=True)\n",
    "    return train"
   ]
  },
  {
   "cell_type": "code",
   "execution_count": 6,
   "metadata": {},
   "outputs": [],
   "source": [
    "def featuer_engineer_age(train):\n",
    "    train.loc[train['Age'] >=65, 'custom_age'] = 'old'\n",
    "    train.loc[train['Age'] <1, 'custom_age'] = 'infant'\n",
    "    train.loc[(train['Age'] >=1) & (train['Age'] <65), \n",
    "            'custom_age'] = 'child/adult'\n",
    "    return train"
   ]
  },
  {
   "cell_type": "code",
   "execution_count": 7,
   "metadata": {},
   "outputs": [],
   "source": [
    "def feature_engineer_o2stat(train):\n",
    "    train.loc[(train['O2Sat'] >= 90) & (train['O2Sat'] < 100), \n",
    "            'custom_o2stat'] = 'normal'\n",
    "    train.loc[(train['O2Sat'] < 90) & (train['O2Sat'] >= 0), \n",
    "            'custom_o2stat'] = 'abnormal'\n",
    "\n",
    "    train['custom_o2stat'].fillna('Missing', inplace=True)\n",
    "    return train"
   ]
  },
  {
   "cell_type": "code",
   "execution_count": 8,
   "metadata": {},
   "outputs": [],
   "source": [
    "def feature_engineer_blood_pressure(train):\n",
    "    train.loc[(train['SBP'] <90) & (train['DBP'] <60), 'custom_bp'] = 'low'\n",
    "\n",
    "    train.loc[(train['SBP'].between(90,120, inclusive=True)) & \n",
    "            (train['DBP'].between(60,80, inclusive=True)), \n",
    "            'custom_bp'] = 'normal'\n",
    "\n",
    "\n",
    "    train.loc[(train['SBP'].between(120,140, inclusive=True)) & \n",
    "            (train['DBP'].between(80,90, inclusive=True)), \n",
    "            'custom_bp'] = 'elevated'\n",
    "\n",
    "\n",
    "    train.loc[(train['SBP'] > 140 ) & \n",
    "            (train['DBP'] > 90 ), 'custom_bp'] = 'high'\n",
    "\n",
    "    train['custom_bp'].fillna('Missing', inplace=True)\n",
    "    return train\n"
   ]
  },
  {
   "cell_type": "code",
   "execution_count": 9,
   "metadata": {},
   "outputs": [],
   "source": [
    "def feature_engineer_resp_rate(train):\n",
    "    train.loc[(train['Resp'].between(30,60)) & (train['Age'] <1), \n",
    "            'custom_resp'] = 'normal'\n",
    "    train.loc[((train['Resp'] < 30) | (train['Resp'] > 60)) & \n",
    "             (train['Age'] <1) ,'custom_resp'] = 'abnormal'\n",
    "\n",
    "\n",
    "    train.loc[(train['Resp'].between(24,40)) & (train['Age'].between(1,3)), \n",
    "            'custom_resp'] = 'normal'\n",
    "    train.loc[((train['Resp'] < 24) | (train['Resp'] > 40)) & \n",
    "             (train['Age'].between(1,3)) ,'custom_resp'] = 'abnormal'\n",
    "\n",
    "\n",
    "    train.loc[(train['Resp'].between(22,34)) & (train['Age'].between(3,6)), \n",
    "            'custom_resp'] = 'normal'\n",
    "    train.loc[((train['Resp'] < 22) | (train['Resp'] > 34)) & \n",
    "             (train['Age'].between(3,6)) ,'custom_resp'] = 'abnormal'\n",
    "\n",
    "\n",
    "    train.loc[(train['Resp'].between(18,30)) & (train['Age'].between(6,12)), \n",
    "            'custom_resp'] = 'normal'\n",
    "    train.loc[((train['Resp'] < 18) | (train['Resp'] > 30)) & \n",
    "             (train['Age'].between(6,12)) ,'custom_resp'] = 'abnormal'\n",
    "\n",
    "\n",
    "    train.loc[(train['Resp'].between(12,20)) & (train['Age'] >12), \n",
    "            'custom_resp'] = 'normal'\n",
    "    train.loc[((train['Resp'] < 12) | (train['Resp'] > 20)) & (train['Age'] >12),\n",
    "            'custom_resp'] = 'abnormal'\n",
    "\n",
    "    train['custom_resp'].fillna('Missing', inplace=True)\n",
    "\n",
    "\n",
    "    return train"
   ]
  },
  {
   "cell_type": "code",
   "execution_count": 10,
   "metadata": {},
   "outputs": [],
   "source": [
    "train = featuer_engineer_age(train)\n",
    "train = feature_engineer_blood_pressure(train)\n",
    "train = feature_engineer_hr(train)\n",
    "train = feature_engineer_o2stat(train)\n",
    "train = feature_engineer_temp(train)\n",
    "train = feature_engineer_resp_rate(train)\n",
    "\n",
    "\n",
    "\n",
    "val = featuer_engineer_age(val)\n",
    "val = feature_engineer_blood_pressure(val)\n",
    "val = feature_engineer_hr(val)\n",
    "val = feature_engineer_o2stat(val)\n",
    "val = feature_engineer_temp(val)\n",
    "val = feature_engineer_resp_rate(val)"
   ]
  },
  {
   "cell_type": "code",
   "execution_count": 11,
   "metadata": {},
   "outputs": [],
   "source": [
    "filtered_columns = ['Gender', 'custom_hr', 'custom_temp','custom_age', \n",
    "                    'custom_o2stat', 'custom_bp','custom_resp' ,'ICULOS', \n",
    "                    'HospAdmTime']\n",
    "\n",
    "X_train  = train[filtered_columns]\n",
    "y_train = train['SepsisLabel']\n",
    "\n",
    "X_val  = val[filtered_columns]\n",
    "y_val = val['SepsisLabel']"
   ]
  },
  {
   "cell_type": "code",
   "execution_count": 12,
   "metadata": {},
   "outputs": [
    {
     "name": "stdout",
     "output_type": "stream",
     "text": [
      "<class 'pandas.core.frame.DataFrame'>\n",
      "RangeIndex: 1170446 entries, 0 to 1170445\n",
      "Data columns (total 9 columns):\n",
      "Gender           1170446 non-null int64\n",
      "custom_hr        1170446 non-null object\n",
      "custom_temp      1170446 non-null object\n",
      "custom_age       1170446 non-null object\n",
      "custom_o2stat    1170446 non-null object\n",
      "custom_bp        1170446 non-null object\n",
      "custom_resp      1170446 non-null object\n",
      "ICULOS           1170446 non-null int64\n",
      "HospAdmTime      1170438 non-null float64\n",
      "dtypes: float64(1), int64(2), object(6)\n",
      "memory usage: 80.4+ MB\n"
     ]
    }
   ],
   "source": [
    "X_train.info()"
   ]
  },
  {
   "cell_type": "code",
   "execution_count": 13,
   "metadata": {},
   "outputs": [
    {
     "data": {
      "text/plain": [
       "8"
      ]
     },
     "execution_count": 13,
     "metadata": {},
     "output_type": "execute_result"
    }
   ],
   "source": [
    "X_train['HospAdmTime'].isna().sum()"
   ]
  },
  {
   "cell_type": "code",
   "execution_count": 14,
   "metadata": {},
   "outputs": [],
   "source": [
    "categorical = X_train.dtypes == object\n",
    "\n",
    "categorical['Gender'] = True"
   ]
  },
  {
   "cell_type": "code",
   "execution_count": 15,
   "metadata": {},
   "outputs": [],
   "source": [
    "cat_pipeline = make_pipeline( OneHotEncoder(handle_unknown=\"ignore\"))\n",
    "cont_scale_pipeline = make_pipeline(SimpleImputer(strategy = \"median\"),\n",
    "                                    StandardScaler())\n",
    "\n",
    "preprocess_trans_scale = make_column_transformer((cont_scale_pipeline, \n",
    "                                                  ~categorical), \n",
    "                                                 (cat_pipeline, categorical))\n"
   ]
  },
  {
   "cell_type": "code",
   "execution_count": 16,
   "metadata": {},
   "outputs": [],
   "source": [
    "def score_model(model, metric_list, y_true, y_pred):\n",
    "    metric_dict = {'precision' :  precision_score, 'recall' : recall_score, \n",
    "                 'confusion_matrix' : confusion_matrix, \n",
    "                 'avg_precision': average_precision_score,\n",
    "                 'f1':f1_score,\n",
    "                 'roc_auc':roc_auc_score}\n",
    "    df = pd.DataFrame()\n",
    "    df['model'] = [model]\n",
    "    for metric in metric_list:\n",
    "        df[metric] = [metric_dict[metric](y_true, y_pred)]\n",
    "    return df"
   ]
  },
  {
   "cell_type": "code",
   "execution_count": 17,
   "metadata": {},
   "outputs": [],
   "source": [
    "log_pipe_scale = make_pipeline(preprocess_trans_scale, \n",
    "                               LogisticRegression(C=0.01, solver = 'lbfgs',\n",
    "                                                  dual=False) )\n",
    "\n",
    "log_model = log_pipe_scale.fit(X_train, y_train)"
   ]
  },
  {
   "cell_type": "code",
   "execution_count": 20,
   "metadata": {},
   "outputs": [
    {
     "data": {
      "image/png": "[encoded data removed]",
      "text/plain": [
       "<Figure size 432x288 with 2 Axes>"
      ]
     },
     "metadata": {
      "needs_background": "light"
     },
     "output_type": "display_data"
    }
   ],
   "source": [
    "pred = log_pipe_scale.predict(X_val)\n",
    "conf_matrix = confusion_matrix(y_val, pred)\n",
    "\n",
    "\n",
    "LR_CM=sns.heatmap(conf_matrix, annot=True, fmt=\"d\");\n",
    "plt.ylabel(('True class'))\n",
    "plt.xlabel('Predicted class')\n",
    "_=LR_CM.set_title('Confusion matrix for logistic regression')\n"
   ]
  },
  {
   "cell_type": "code",
   "execution_count": 21,
   "metadata": {},
   "outputs": [
    {
     "data": {
      "text/html": [
       "<div>\n",
       "<style scoped>\n",
       "    .dataframe tbody tr th:only-of-type {\n",
       "        vertical-align: middle;\n",
       "    }\n",
       "\n",
       "    .dataframe tbody tr th {\n",
       "        vertical-align: top;\n",
       "    }\n",
       "\n",
       "    .dataframe thead th {\n",
       "        text-align: right;\n",
       "    }\n",
       "</style>\n",
       "<table border=\"1\" class=\"dataframe\">\n",
       "  <thead>\n",
       "    <tr style=\"text-align: right;\">\n",
       "      <th></th>\n",
       "      <th>model</th>\n",
       "      <th>precision</th>\n",
       "      <th>recall</th>\n",
       "      <th>avg_precision</th>\n",
       "      <th>f1</th>\n",
       "      <th>roc_auc</th>\n",
       "    </tr>\n",
       "  </thead>\n",
       "  <tbody>\n",
       "    <tr>\n",
       "      <td>0</td>\n",
       "      <td>Logistic_regression</td>\n",
       "      <td>0.409091</td>\n",
       "      <td>0.009982</td>\n",
       "      <td>0.018058</td>\n",
       "      <td>0.019488</td>\n",
       "      <td>0.504888</td>\n",
       "    </tr>\n",
       "  </tbody>\n",
       "</table>\n",
       "</div>"
      ],
      "text/plain": [
       "                 model  precision    recall  avg_precision        f1   roc_auc\n",
       "0  Logistic_regression   0.409091  0.009982       0.018058  0.019488  0.504888"
      ]
     },
     "execution_count": 21,
     "metadata": {},
     "output_type": "execute_result"
    }
   ],
   "source": [
    "score_model('Logistic_regression', ['precision','recall','avg_precision','f1','roc_auc'],\n",
    "            y_val, pred)\n"
   ]
  },
  {
   "cell_type": "code",
   "execution_count": 22,
   "metadata": {
    "scrolled": true
   },
   "outputs": [
    {
     "data": {
      "text/plain": [
       "Text(0.5, 15.0, 'Predicted class')"
      ]
     },
     "execution_count": 22,
     "metadata": {},
     "output_type": "execute_result"
    },
    {
     "data": {
      "image/png": "[encoded data removed]",
      "text/plain": [
       "<Figure size 432x288 with 2 Axes>"
      ]
     },
     "metadata": {
      "needs_background": "light"
     },
     "output_type": "display_data"
    }
   ],
   "source": [
    "df = pd.DataFrame(log_pipe_scale.predict_proba(X_val))\n",
    "\n",
    "df['actual'] = y_val\n",
    "df.loc[(df[1] >=0.4), 'pred'] = 1 \n",
    "df.loc[(df[1] <0.4), 'pred'] = 0\n",
    "conf_matrix = confusion_matrix(df['actual'], df['pred'])\n",
    "\n",
    "sns.heatmap(conf_matrix, annot=True, fmt=\"d\");\n",
    "plt.ylabel(('True class'))\n",
    "plt.xlabel('Predicted class')"
   ]
  },
  {
   "cell_type": "code",
   "execution_count": 23,
   "metadata": {},
   "outputs": [
    {
     "data": {
      "text/html": [
       "<div>\n",
       "<style scoped>\n",
       "    .dataframe tbody tr th:only-of-type {\n",
       "        vertical-align: middle;\n",
       "    }\n",
       "\n",
       "    .dataframe tbody tr th {\n",
       "        vertical-align: top;\n",
       "    }\n",
       "\n",
       "    .dataframe thead th {\n",
       "        text-align: right;\n",
       "    }\n",
       "</style>\n",
       "<table border=\"1\" class=\"dataframe\">\n",
       "  <thead>\n",
       "    <tr style=\"text-align: right;\">\n",
       "      <th></th>\n",
       "      <th>model</th>\n",
       "      <th>precision</th>\n",
       "      <th>recall</th>\n",
       "      <th>avg_precision</th>\n",
       "      <th>f1</th>\n",
       "      <th>roc_auc</th>\n",
       "    </tr>\n",
       "  </thead>\n",
       "  <tbody>\n",
       "    <tr>\n",
       "      <td>0</td>\n",
       "      <td>Logistic_regression</td>\n",
       "      <td>0.222798</td>\n",
       "      <td>0.015896</td>\n",
       "      <td>0.017433</td>\n",
       "      <td>0.029676</td>\n",
       "      <td>0.507551</td>\n",
       "    </tr>\n",
       "  </tbody>\n",
       "</table>\n",
       "</div>"
      ],
      "text/plain": [
       "                 model  precision    recall  avg_precision        f1   roc_auc\n",
       "0  Logistic_regression   0.222798  0.015896       0.017433  0.029676  0.507551"
      ]
     },
     "execution_count": 23,
     "metadata": {},
     "output_type": "execute_result"
    }
   ],
   "source": [
    "score_model('Logistic_regression', ['precision','recall','avg_precision','f1','roc_auc'], \n",
    "            df['actual'], df['pred'])"
   ]
  },
  {
   "cell_type": "code",
   "execution_count": 24,
   "metadata": {},
   "outputs": [],
   "source": [
    "eval_df = pd.DataFrame(log_pipe_scale.predict_proba(X_val))\n",
    "\n",
    "eval_df['actual'] = y_val\n",
    "\n",
    "def eval_threshold(eval_df, t_list):\n",
    "    output_df = pd.DataFrame()\n",
    "    avg_pre_list = []\n",
    "    for threshold in t_list:\n",
    "        eval_df.loc[(eval_df[1] >=threshold), 'pred'] = 1 \n",
    "        eval_df.loc[(eval_df[1] <threshold), 'pred'] = 0 \n",
    "        avg_pre_list.append(average_precision_score(eval_df['actual'], \n",
    "                                                    eval_df['pred']))\n",
    "    output_df['threshold'] = t_list\n",
    "    output_df['avg_precision'] = avg_pre_list\n",
    "    return output_df\n",
    "    \n",
    "comp = eval_threshold(eval_df, list(np.arange(0,1,0.05)))"
   ]
  },
  {
   "cell_type": "code",
   "execution_count": 25,
   "metadata": {},
   "outputs": [
    {
     "data": {
      "image/png": "[encoded data removed]",
      "text/plain": [
       "<Figure size 432x288 with 1 Axes>"
      ]
     },
     "metadata": {
      "needs_background": "light"
     },
     "output_type": "display_data"
    }
   ],
   "source": [
    "ax=sns.lineplot(comp['threshold'], comp['avg_precision'])\n",
    "_=ax.set_title('Average precision over different thresholds for logistic regression')"
   ]
  },
  {
   "cell_type": "code",
   "execution_count": 26,
   "metadata": {},
   "outputs": [
    {
     "data": {
      "text/plain": [
       "GridSearchCV(cv=3, error_score='raise-deprecating',\n",
       "             estimator=Pipeline(memory=None,\n",
       "                                steps=[('columntransformer',\n",
       "                                        ColumnTransformer(n_jobs=None,\n",
       "                                                          remainder='drop',\n",
       "                                                          sparse_threshold=0.3,\n",
       "                                                          transformer_weights=None,\n",
       "                                                          transformers=[('pipeline-1',\n",
       "                                                                         Pipeline(memory=None,\n",
       "                                                                                  steps=[('simpleimputer',\n",
       "                                                                                          SimpleImputer(add_indicator=False,\n",
       "                                                                                                        copy=True,\n",
       "                                                                                                        fill_value=None,\n",
       "                                                                                                        missing_values=...\n",
       "                                                           penalty='l2',\n",
       "                                                           random_state=None,\n",
       "                                                           solver='lbfgs',\n",
       "                                                           tol=0.0001,\n",
       "                                                           verbose=0,\n",
       "                                                           warm_start=False))],\n",
       "                                verbose=False),\n",
       "             iid='warn', n_jobs=6,\n",
       "             param_grid={'logisticregression__C': [0.1, 0.01, 0.5, 1],\n",
       "                         'logisticregression__solver': ['newton-cg', 'lbfgs',\n",
       "                                                        'liblinear', 'sag',\n",
       "                                                        'saga']},\n",
       "             pre_dispatch='2*n_jobs', refit=True, return_train_score=False,\n",
       "             scoring='average_precision', verbose=0)"
      ]
     },
     "execution_count": 26,
     "metadata": {},
     "output_type": "execute_result"
    }
   ],
   "source": [
    "param_grid = {'logisticregression__C': [0.1, 0.01, 0.5, 1],\n",
    "             'logisticregression__solver':['newton-cg', 'lbfgs', 'liblinear', \n",
    "                                           'sag', 'saga']}\n",
    "grid = GridSearchCV(log_pipe_scale, param_grid, cv=3, scoring = 'average_precision', n_jobs = 6)\n",
    "grid.fit(X_train, y_train)"
   ]
  },
  {
   "cell_type": "code",
   "execution_count": 27,
   "metadata": {},
   "outputs": [
    {
     "name": "stdout",
     "output_type": "stream",
     "text": [
      "{'logisticregression__C': 0.01, 'logisticregression__solver': 'sag'}\n"
     ]
    }
   ],
   "source": [
    "print(grid.best_params_)"
   ]
  },
  {
   "cell_type": "markdown",
   "metadata": {},
   "source": [
    "Decision Tree"
   ]
  },
  {
   "cell_type": "code",
   "execution_count": 28,
   "metadata": {},
   "outputs": [],
   "source": [
    "dt_pipe_scale = make_pipeline(preprocess_trans_scale, DecisionTreeClassifier() )\n",
    "\n",
    "dt_model = dt_pipe_scale.fit(X_train, y_train)"
   ]
  },
  {
   "cell_type": "code",
   "execution_count": 29,
   "metadata": {},
   "outputs": [
    {
     "data": {
      "image/png": "[encoded data removed]",
      "text/plain": [
       "<Figure size 432x288 with 2 Axes>"
      ]
     },
     "metadata": {
      "needs_background": "light"
     },
     "output_type": "display_data"
    }
   ],
   "source": [
    "pred = dt_model.predict(X_val)\n",
    "conf_matrix = confusion_matrix(y_val, pred)\n",
    "\n",
    "# sns.heatmap(conf_matrix, annot=True, fmt=\"d\");\n",
    "DT_CM=sns.heatmap(conf_matrix, annot=True, fmt=\"d\");\n",
    "plt.ylabel(('True class'))\n",
    "plt.xlabel('Predicted class')\n",
    "_=DT_CM.set_title('Confusion matrix for decission tree classifier')"
   ]
  },
  {
   "cell_type": "code",
   "execution_count": 30,
   "metadata": {},
   "outputs": [
    {
     "data": {
      "text/html": [
       "<div>\n",
       "<style scoped>\n",
       "    .dataframe tbody tr th:only-of-type {\n",
       "        vertical-align: middle;\n",
       "    }\n",
       "\n",
       "    .dataframe tbody tr th {\n",
       "        vertical-align: top;\n",
       "    }\n",
       "\n",
       "    .dataframe thead th {\n",
       "        text-align: right;\n",
       "    }\n",
       "</style>\n",
       "<table border=\"1\" class=\"dataframe\">\n",
       "  <thead>\n",
       "    <tr style=\"text-align: right;\">\n",
       "      <th></th>\n",
       "      <th>model</th>\n",
       "      <th>precision</th>\n",
       "      <th>recall</th>\n",
       "      <th>avg_precision</th>\n",
       "      <th>f1</th>\n",
       "      <th>roc_auc</th>\n",
       "    </tr>\n",
       "  </thead>\n",
       "  <tbody>\n",
       "    <tr>\n",
       "      <td>0</td>\n",
       "      <td>Decision_Tree</td>\n",
       "      <td>0.053111</td>\n",
       "      <td>0.090573</td>\n",
       "      <td>0.017648</td>\n",
       "      <td>0.066958</td>\n",
       "      <td>0.533726</td>\n",
       "    </tr>\n",
       "  </tbody>\n",
       "</table>\n",
       "</div>"
      ],
      "text/plain": [
       "           model  precision    recall  avg_precision        f1   roc_auc\n",
       "0  Decision_Tree   0.053111  0.090573       0.017648  0.066958  0.533726"
      ]
     },
     "execution_count": 30,
     "metadata": {},
     "output_type": "execute_result"
    }
   ],
   "source": [
    "score_model('Decision_Tree', ['precision','recall','avg_precision','f1','roc_auc'],\n",
    "            y_val, pred)"
   ]
  },
  {
   "cell_type": "code",
   "execution_count": 31,
   "metadata": {},
   "outputs": [],
   "source": [
    "cat_names = preprocess_trans_scale.fit(X_train). \\\n",
    "            named_transformers_['pipeline-2'].named_steps['onehotencoder']\n",
    "\n",
    "feature_list = list(cat_names.get_feature_names())\n",
    "feature_list.extend(['ICULOS', \n",
    "                    'HospAdmTime'])\n",
    "\n",
    "\n",
    "export_graphviz(DecisionTreeClassifier(max_leaf_nodes=15).fit( \\\n",
    "    preprocess_trans_scale.fit_transform(X_train), y_train) , \n",
    "                out_file='dt.dot',\n",
    "                feature_names =feature_list ,class_names = ['normal','sepsis'],\n",
    "                rounded = True, proportion = False, precision = 2\n",
    "               )\n",
    "# call(['dot', '-Tpng', 'dt.dot', '-o', 'dt.png', '-Gdpi=600'])\n",
    "\n",
    "# Image(filename = 'dt.png', width =400, height = 400)"
   ]
  },
  {
   "cell_type": "code",
   "execution_count": 32,
   "metadata": {},
   "outputs": [
    {
     "data": {
      "text/plain": [
       "GridSearchCV(cv=3, error_score='raise-deprecating',\n",
       "             estimator=Pipeline(memory=None,\n",
       "                                steps=[('columntransformer',\n",
       "                                        ColumnTransformer(n_jobs=None,\n",
       "                                                          remainder='drop',\n",
       "                                                          sparse_threshold=0.3,\n",
       "                                                          transformer_weights=None,\n",
       "                                                          transformers=[('pipeline-1',\n",
       "                                                                         Pipeline(memory=None,\n",
       "                                                                                  steps=[('simpleimputer',\n",
       "                                                                                          SimpleImputer(add_indicator=False,\n",
       "                                                                                                        copy=True,\n",
       "                                                                                                        fill_value=None,\n",
       "                                                                                                        missing_values=...\n",
       "                                                               min_samples_leaf=1,\n",
       "                                                               min_samples_split=2,\n",
       "                                                               min_weight_fraction_leaf=0.0,\n",
       "                                                               presort=False,\n",
       "                                                               random_state=None,\n",
       "                                                               splitter='best'))],\n",
       "                                verbose=False),\n",
       "             iid='warn', n_jobs=6,\n",
       "             param_grid={'decisiontreeclassifier__max_depth': range(1, 7),\n",
       "                         'decisiontreeclassifier__max_leaf_nodes': range(2, 20)},\n",
       "             pre_dispatch='2*n_jobs', refit=True, return_train_score=False,\n",
       "             scoring='recall', verbose=0)"
      ]
     },
     "execution_count": 32,
     "metadata": {},
     "output_type": "execute_result"
    }
   ],
   "source": [
    "param_grid = { 'decisiontreeclassifier__max_depth': range(1, 7),\n",
    "                'decisiontreeclassifier__max_leaf_nodes':range(2, 20)}\n",
    "grid = GridSearchCV(dt_pipe_scale, param_grid, cv=3, n_jobs = 6, scoring= 'recall')\n",
    "grid.fit(X_train, y_train)"
   ]
  },
  {
   "cell_type": "code",
   "execution_count": 33,
   "metadata": {},
   "outputs": [
    {
     "name": "stdout",
     "output_type": "stream",
     "text": [
      "{'decisiontreeclassifier__max_depth': 6, 'decisiontreeclassifier__max_leaf_nodes': 19}\n"
     ]
    }
   ],
   "source": [
    "print(grid.best_params_)"
   ]
  },
  {
   "cell_type": "code",
   "execution_count": 34,
   "metadata": {},
   "outputs": [],
   "source": [
    "imp_list = dt_model.named_steps['decisiontreeclassifier'].feature_importances_"
   ]
  },
  {
   "cell_type": "code",
   "execution_count": 35,
   "metadata": {},
   "outputs": [
    {
     "data": {
      "image/png": "[encoded data removed]",
      "text/plain": [
       "<Figure size 432x288 with 1 Axes>"
      ]
     },
     "metadata": {
      "needs_background": "light"
     },
     "output_type": "display_data"
    }
   ],
   "source": [
    "_ = plt.bar(feature_list,imp_list)\n",
    "_ = plt.xticks(feature_list, rotation=90)"
   ]
  },
  {
   "cell_type": "code",
   "execution_count": 36,
   "metadata": {},
   "outputs": [],
   "source": [
    "dt_pipe_scale = make_pipeline(preprocess_trans_scale, DecisionTreeClassifier(max_depth=6, max_leaf_nodes=17) )\n",
    "\n",
    "dt_model = dt_pipe_scale.fit(X_train, y_train)"
   ]
  },
  {
   "cell_type": "code",
   "execution_count": 37,
   "metadata": {},
   "outputs": [
    {
     "data": {
      "text/plain": [
       "Text(0.5, 15.0, 'Predicted class')"
      ]
     },
     "execution_count": 37,
     "metadata": {},
     "output_type": "execute_result"
    },
    {
     "data": {
      "image/png": "[encoded data removed]",
      "text/plain": [
       "<Figure size 432x288 with 2 Axes>"
      ]
     },
     "metadata": {
      "needs_background": "light"
     },
     "output_type": "display_data"
    }
   ],
   "source": [
    "pred = dt_pipe_scale.predict(X_val)\n",
    "conf_matrix = confusion_matrix(y_val, pred)\n",
    "\n",
    "sns.heatmap(conf_matrix, annot=True, fmt=\"d\");\n",
    "plt.ylabel(('True class'))\n",
    "plt.xlabel('Predicted class')"
   ]
  },
  {
   "cell_type": "markdown",
   "metadata": {},
   "source": [
    "# Gradient Boosting\n",
    "Training the model"
   ]
  },
  {
   "cell_type": "code",
   "execution_count": 38,
   "metadata": {},
   "outputs": [],
   "source": [
    "gb_pipe_scale = make_pipeline(preprocess_trans_scale, GradientBoostingClassifier(n_estimators=50))\n",
    "\n",
    "gb_model = gb_pipe_scale.fit(X_train, y_train)"
   ]
  },
  {
   "cell_type": "markdown",
   "metadata": {},
   "source": [
    "Prediction and Scoring"
   ]
  },
  {
   "cell_type": "code",
   "execution_count": 39,
   "metadata": {},
   "outputs": [
    {
     "data": {
      "text/plain": [
       "Text(0.5, 15.0, 'Predicted class')"
      ]
     },
     "execution_count": 39,
     "metadata": {},
     "output_type": "execute_result"
    },
    {
     "data": {
      "image/png": "[encoded data removed]",
      "text/plain": [
       "<Figure size 432x288 with 2 Axes>"
      ]
     },
     "metadata": {
      "needs_background": "light"
     },
     "output_type": "display_data"
    }
   ],
   "source": [
    "pred = gb_model.predict(X_val)\n",
    "conf_matrix = confusion_matrix(y_val, pred)\n",
    "\n",
    "# sns.heatmap(conf_matrix, annot=True, fmt=\"d\");\n",
    "GB_CM=sns.heatmap(conf_matrix, annot=True, fmt=\"d\");\n",
    "_=GB_CM.set_title('Confusion matrix for GradientBoosting classifier')\n",
    "plt.ylabel(('True class'))\n",
    "plt.xlabel('Predicted class')"
   ]
  },
  {
   "cell_type": "code",
   "execution_count": 40,
   "metadata": {},
   "outputs": [
    {
     "data": {
      "text/html": [
       "<div>\n",
       "<style scoped>\n",
       "    .dataframe tbody tr th:only-of-type {\n",
       "        vertical-align: middle;\n",
       "    }\n",
       "\n",
       "    .dataframe tbody tr th {\n",
       "        vertical-align: top;\n",
       "    }\n",
       "\n",
       "    .dataframe thead th {\n",
       "        text-align: right;\n",
       "    }\n",
       "</style>\n",
       "<table border=\"1\" class=\"dataframe\">\n",
       "  <thead>\n",
       "    <tr style=\"text-align: right;\">\n",
       "      <th></th>\n",
       "      <th>model</th>\n",
       "      <th>precision</th>\n",
       "      <th>recall</th>\n",
       "      <th>avg_precision</th>\n",
       "      <th>f1</th>\n",
       "      <th>roc_auc</th>\n",
       "    </tr>\n",
       "  </thead>\n",
       "  <tbody>\n",
       "    <tr>\n",
       "      <td>0</td>\n",
       "      <td>Gradient Boosting</td>\n",
       "      <td>0.0</td>\n",
       "      <td>0.0</td>\n",
       "      <td>0.014116</td>\n",
       "      <td>0.0</td>\n",
       "      <td>0.499873</td>\n",
       "    </tr>\n",
       "  </tbody>\n",
       "</table>\n",
       "</div>"
      ],
      "text/plain": [
       "               model  precision  recall  avg_precision   f1   roc_auc\n",
       "0  Gradient Boosting        0.0     0.0       0.014116  0.0  0.499873"
      ]
     },
     "execution_count": 40,
     "metadata": {},
     "output_type": "execute_result"
    }
   ],
   "source": [
    "score_model('Gradient Boosting', ['precision','recall','avg_precision','f1','roc_auc'],\n",
    "            y_val, pred)"
   ]
  },
  {
   "cell_type": "code",
   "execution_count": 56,
   "metadata": {},
   "outputs": [
    {
     "name": "stderr",
     "output_type": "stream",
     "text": [
      "/Users/yuewoo/opt/anaconda3/lib/python3.7/site-packages/joblib/externals/loky/process_executor.py:706: UserWarning: A worker stopped while some jobs were given to the executor. This can be caused by a too short worker timeout or by a memory leak.\n",
      "  \"timeout or by a memory leak.\", UserWarning\n"
     ]
    },
    {
     "data": {
      "text/plain": [
       "GridSearchCV(cv=3, error_score='raise-deprecating',\n",
       "             estimator=Pipeline(memory=None,\n",
       "                                steps=[('columntransformer',\n",
       "                                        ColumnTransformer(n_jobs=None,\n",
       "                                                          remainder='drop',\n",
       "                                                          sparse_threshold=0.3,\n",
       "                                                          transformer_weights=None,\n",
       "                                                          transformers=[('pipeline-1',\n",
       "                                                                         Pipeline(memory=None,\n",
       "                                                                                  steps=[('simpleimputer',\n",
       "                                                                                          SimpleImputer(add_indicator=False,\n",
       "                                                                                                        copy=True,\n",
       "                                                                                                        fill_value=None,\n",
       "                                                                                                        missing_values=...\n",
       "                                                                   subsample=1.0,\n",
       "                                                                   tol=0.0001,\n",
       "                                                                   validation_fraction=0.1,\n",
       "                                                                   verbose=0,\n",
       "                                                                   warm_start=False))],\n",
       "                                verbose=False),\n",
       "             iid='warn', n_jobs=6,\n",
       "             param_grid={'gradientboostingclassifier__learning_rate': [0.1,\n",
       "                                                                       0.01,\n",
       "                                                                       0.001,\n",
       "                                                                       0.25],\n",
       "                         'gradientboostingclassifier__n_estimators': [10, 50,\n",
       "                                                                      100,\n",
       "                                                                      150]},\n",
       "             pre_dispatch='2*n_jobs', refit=True, return_train_score=False,\n",
       "             scoring='average_precision', verbose=0)"
      ]
     },
     "execution_count": 56,
     "metadata": {},
     "output_type": "execute_result"
    }
   ],
   "source": [
    "param_grid = {'gradientboostingclassifier__learning_rate': [0.1,0.01, 0.001, 0.25],\n",
    "                'gradientboostingclassifier__n_estimators': [10,50,100,150]}\n",
    "grid = GridSearchCV(gb_pipe_scale, param_grid, cv=3, n_jobs = 6, scoring= 'average_precision')\n",
    "grid.fit(X_train, y_train)"
   ]
  },
  {
   "cell_type": "code",
   "execution_count": 42,
   "metadata": {},
   "outputs": [
    {
     "data": {
      "text/plain": [
       "{'gradientboostingclassifier__learning_rate': 0.01,\n",
       " 'gradientboostingclassifier__n_estimators': 150}"
      ]
     },
     "execution_count": 42,
     "metadata": {},
     "output_type": "execute_result"
    }
   ],
   "source": [
    "grid.best_params_"
   ]
  },
  {
   "cell_type": "markdown",
   "metadata": {},
   "source": [
    "# Random Forest\n",
    "train the model"
   ]
  },
  {
   "cell_type": "code",
   "execution_count": 62,
   "metadata": {},
   "outputs": [],
   "source": [
    "rf_pipe_scale = make_pipeline(preprocess_trans_scale, RandomForestClassifier(max_features='sqrt', n_estimators=150))\n",
    "\n",
    "rf_model = rf_pipe_scale.fit(X_train, y_train)"
   ]
  },
  {
   "cell_type": "code",
   "execution_count": 63,
   "metadata": {},
   "outputs": [
    {
     "data": {
      "image/png": "[encoded data removed]",
      "text/plain": [
       "<Figure size 432x288 with 2 Axes>"
      ]
     },
     "metadata": {
      "needs_background": "light"
     },
     "output_type": "display_data"
    }
   ],
   "source": [
    "pred = rf_model.predict(X_val)\n",
    "conf_matrix = confusion_matrix(y_val, pred)\n",
    "\n",
    "# sns.heatmap(conf_matrix, annot=True, fmt=\"d\");\n",
    "RF_CM=sns.heatmap(conf_matrix, annot=True, fmt=\"d\");\n",
    "plt.ylabel(('True class'))\n",
    "plt.xlabel('Predicted class')\n",
    "_=RF_CM.set_title('Confusion matrix for RandomForest classifier')\n"
   ]
  },
  {
   "cell_type": "code",
   "execution_count": 64,
   "metadata": {},
   "outputs": [
    {
     "data": {
      "text/html": [
       "<div>\n",
       "<style scoped>\n",
       "    .dataframe tbody tr th:only-of-type {\n",
       "        vertical-align: middle;\n",
       "    }\n",
       "\n",
       "    .dataframe tbody tr th {\n",
       "        vertical-align: top;\n",
       "    }\n",
       "\n",
       "    .dataframe thead th {\n",
       "        text-align: right;\n",
       "    }\n",
       "</style>\n",
       "<table border=\"1\" class=\"dataframe\">\n",
       "  <thead>\n",
       "    <tr style=\"text-align: right;\">\n",
       "      <th></th>\n",
       "      <th>model</th>\n",
       "      <th>precision</th>\n",
       "      <th>recall</th>\n",
       "      <th>avg_precision</th>\n",
       "      <th>f1</th>\n",
       "      <th>roc_auc</th>\n",
       "    </tr>\n",
       "  </thead>\n",
       "  <tbody>\n",
       "    <tr>\n",
       "      <td>0</td>\n",
       "      <td>Random Forest</td>\n",
       "      <td>0.053191</td>\n",
       "      <td>0.025878</td>\n",
       "      <td>0.015127</td>\n",
       "      <td>0.034817</td>\n",
       "      <td>0.509641</td>\n",
       "    </tr>\n",
       "  </tbody>\n",
       "</table>\n",
       "</div>"
      ],
      "text/plain": [
       "           model  precision    recall  avg_precision        f1   roc_auc\n",
       "0  Random Forest   0.053191  0.025878       0.015127  0.034817  0.509641"
      ]
     },
     "execution_count": 64,
     "metadata": {},
     "output_type": "execute_result"
    }
   ],
   "source": [
    "score_model('Random Forest', ['precision','recall','avg_precision','f1','roc_auc'],\n",
    "            y_val, pred)"
   ]
  },
  {
   "cell_type": "code",
   "execution_count": 65,
   "metadata": {},
   "outputs": [
    {
     "data": {
      "text/plain": [
       "GridSearchCV(cv=3, error_score='raise-deprecating',\n",
       "             estimator=Pipeline(memory=None,\n",
       "                                steps=[('columntransformer',\n",
       "                                        ColumnTransformer(n_jobs=None,\n",
       "                                                          remainder='drop',\n",
       "                                                          sparse_threshold=0.3,\n",
       "                                                          transformer_weights=None,\n",
       "                                                          transformers=[('pipeline-1',\n",
       "                                                                         Pipeline(memory=None,\n",
       "                                                                                  steps=[('simpleimputer',\n",
       "                                                                                          SimpleImputer(add_indicator=False,\n",
       "                                                                                                        copy=True,\n",
       "                                                                                                        fill_value=None,\n",
       "                                                                                                        missing_values=...\n",
       "                                                               n_estimators=150,\n",
       "                                                               n_jobs=None,\n",
       "                                                               oob_score=False,\n",
       "                                                               random_state=None,\n",
       "                                                               verbose=0,\n",
       "                                                               warm_start=False))],\n",
       "                                verbose=False),\n",
       "             iid='warn', n_jobs=6,\n",
       "             param_grid={'randomforestclassifier__max_features': ['auto',\n",
       "                                                                  'sqrt',\n",
       "                                                                  'log2'],\n",
       "                         'randomforestclassifier__n_estimators': [10, 50, 100,\n",
       "                                                                  150]},\n",
       "             pre_dispatch='2*n_jobs', refit=True, return_train_score=False,\n",
       "             scoring='average_precision', verbose=0)"
      ]
     },
     "execution_count": 65,
     "metadata": {},
     "output_type": "execute_result"
    }
   ],
   "source": [
    "param_grid = {'randomforestclassifier__max_features': ['auto','sqrt','log2'],\n",
    "                'randomforestclassifier__n_estimators': [10,50,100,150]}\n",
    "grid = GridSearchCV(rf_pipe_scale, param_grid, cv=3, n_jobs = 6, scoring= 'average_precision')\n",
    "grid.fit(X_train, y_train)"
   ]
  },
  {
   "cell_type": "code",
   "execution_count": 66,
   "metadata": {},
   "outputs": [
    {
     "data": {
      "text/plain": [
       "{'randomforestclassifier__max_features': 'log2',\n",
       " 'randomforestclassifier__n_estimators': 150}"
      ]
     },
     "execution_count": 66,
     "metadata": {},
     "output_type": "execute_result"
    }
   ],
   "source": [
    "grid.best_params_"
   ]
  },
  {
   "cell_type": "markdown",
   "metadata": {},
   "source": [
    "# LightGBM\n",
    "Train the Model"
   ]
  },
  {
   "cell_type": "code",
   "execution_count": 48,
   "metadata": {},
   "outputs": [],
   "source": [
    "X_train_transformed = preprocess_trans_scale.fit_transform(X_train)\n",
    "\n",
    "d_train = lgb.Dataset(X_train_transformed, label=y_train)\n",
    "params = {}\n",
    "params['learning_rate'] = 0.001\n",
    "params['boosting_type'] = 'gbdt'\n",
    "params['objective'] = 'binary'\n",
    "params['metric'] = 'binary_logloss'\n",
    "params['sub_feature'] = 0.5\n",
    "params['num_leaves'] = 10\n",
    "params['min_data'] = 50\n",
    "params['max_depth'] = 10\n",
    "clf = lgb.train(params, d_train, 100)"
   ]
  },
  {
   "cell_type": "markdown",
   "metadata": {},
   "source": [
    "Prediction and Scoring"
   ]
  },
  {
   "cell_type": "code",
   "execution_count": 71,
   "metadata": {},
   "outputs": [
    {
     "data": {
      "image/png": "[encoded data removed]",
      "text/plain": [
       "<Figure size 432x288 with 2 Axes>"
      ]
     },
     "metadata": {
      "needs_background": "light"
     },
     "output_type": "display_data"
    }
   ],
   "source": [
    "pred = clf.predict(preprocess_trans_scale.transform(X_val))\n",
    "pred[pred <0.5] = 0\n",
    "pred[pred >=0.5] = 1\n",
    "\n",
    "conf_matrix = confusion_matrix(y_val, pred)\n",
    "\n",
    "# sns.heatmap(conf_matrix, annot=True, fmt=\"d\");\n",
    "LB_CM=sns.heatmap(conf_matrix, annot=True, fmt=\"d\");\n",
    "plt.ylabel(('True class'))\n",
    "plt.xlabel('Predicted class')\n",
    "_=LB_CM.set_title('Confusion matrix for LightGBM classifier')"
   ]
  },
  {
   "cell_type": "code",
   "execution_count": 50,
   "metadata": {},
   "outputs": [
    {
     "name": "stderr",
     "output_type": "stream",
     "text": [
      "/Users/yuewoo/opt/anaconda3/lib/python3.7/site-packages/sklearn/metrics/classification.py:1437: UndefinedMetricWarning: Precision is ill-defined and being set to 0.0 due to no predicted samples.\n",
      "  'precision', 'predicted', average, warn_for)\n",
      "/Users/yuewoo/opt/anaconda3/lib/python3.7/site-packages/sklearn/metrics/classification.py:1437: UndefinedMetricWarning: F-score is ill-defined and being set to 0.0 due to no predicted samples.\n",
      "  'precision', 'predicted', average, warn_for)\n"
     ]
    },
    {
     "data": {
      "text/html": [
       "<div>\n",
       "<style scoped>\n",
       "    .dataframe tbody tr th:only-of-type {\n",
       "        vertical-align: middle;\n",
       "    }\n",
       "\n",
       "    .dataframe tbody tr th {\n",
       "        vertical-align: top;\n",
       "    }\n",
       "\n",
       "    .dataframe thead th {\n",
       "        text-align: right;\n",
       "    }\n",
       "</style>\n",
       "<table border=\"1\" class=\"dataframe\">\n",
       "  <thead>\n",
       "    <tr style=\"text-align: right;\">\n",
       "      <th></th>\n",
       "      <th>model</th>\n",
       "      <th>precision</th>\n",
       "      <th>recall</th>\n",
       "      <th>avg_precision</th>\n",
       "      <th>f1</th>\n",
       "      <th>roc_auc</th>\n",
       "    </tr>\n",
       "  </thead>\n",
       "  <tbody>\n",
       "    <tr>\n",
       "      <td>0</td>\n",
       "      <td>Light GBM</td>\n",
       "      <td>0.0</td>\n",
       "      <td>0.0</td>\n",
       "      <td>0.014116</td>\n",
       "      <td>0.0</td>\n",
       "      <td>0.5</td>\n",
       "    </tr>\n",
       "  </tbody>\n",
       "</table>\n",
       "</div>"
      ],
      "text/plain": [
       "       model  precision  recall  avg_precision   f1  roc_auc\n",
       "0  Light GBM        0.0     0.0       0.014116  0.0      0.5"
      ]
     },
     "execution_count": 50,
     "metadata": {},
     "output_type": "execute_result"
    }
   ],
   "source": [
    "score_model('Light GBM', ['precision','recall','avg_precision','f1','roc_auc'],\n",
    "            y_val, pred)"
   ]
  },
  {
   "cell_type": "markdown",
   "metadata": {},
   "source": [
    "# custom thresholds"
   ]
  },
  {
   "cell_type": "code",
   "execution_count": 51,
   "metadata": {},
   "outputs": [],
   "source": [
    "pred = clf.predict(preprocess_trans_scale.transform(X_val))\n",
    "\n",
    "\n",
    "def eval_threshold(pred, y_val, t_list):\n",
    "    output_df = pd.DataFrame()\n",
    "    avg_pre_list = []\n",
    "    for threshold in t_list:\n",
    "        pred[pred <threshold] = 0\n",
    "        pred[pred >=threshold] = 1\n",
    "        avg_pre_list.append(average_precision_score(y_val, \n",
    "                                                    pred))\n",
    "    \n",
    "    \n",
    "    \n",
    "    \n",
    "    \n",
    "    \n",
    "    output_df['threshold'] = t_list\n",
    "    output_df['avg_precision'] = avg_pre_list\n",
    "    return output_df\n",
    "    \n",
    "comp = eval_threshold(pred,y_val, list(np.arange(0,1,0.05)))"
   ]
  },
  {
   "cell_type": "code",
   "execution_count": 52,
   "metadata": {
    "scrolled": true
   },
   "outputs": [
    {
     "data": {
      "image/png": "[encoded data removed]",
      "text/plain": [
       "<Figure size 432x288 with 1 Axes>"
      ]
     },
     "metadata": {
      "needs_background": "light"
     },
     "output_type": "display_data"
    }
   ],
   "source": [
    "ax=sns.lineplot(comp['threshold'], comp['avg_precision'])\n",
    "_=ax.set_title('Average precision over different thresholds for Light GBM')"
   ]
  },
  {
   "cell_type": "markdown",
   "metadata": {},
   "source": [
    "# Autoenocder"
   ]
  },
  {
   "cell_type": "code",
   "execution_count": 53,
   "metadata": {},
   "outputs": [],
   "source": [
    "train_0 = train[train['SepsisLabel'] ==0]\n",
    "train_1 = train[train['SepsisLabel'] ==1]\n",
    "\n",
    "filtered_columns = ['Gender', 'custom_hr', 'custom_temp','custom_age', \n",
    "                    'custom_o2stat', 'custom_bp','custom_resp' ,'ICULOS', \n",
    "                    'HospAdmTime']\n",
    "\n",
    "X_train_0  = train_0[filtered_columns]\n",
    "y_train_0 = train_0['SepsisLabel']"
   ]
  },
  {
   "cell_type": "code",
   "execution_count": 54,
   "metadata": {},
   "outputs": [],
   "source": [
    "X_train_0_transformed = preprocess_trans_scale.fit_transform(X_train_0)\n",
    "\n",
    "X_val_transformed = preprocess_trans_scale.transform(X_val)"
   ]
  },
  {
   "cell_type": "code",
   "execution_count": 55,
   "metadata": {},
   "outputs": [
    {
     "name": "stdout",
     "output_type": "stream",
     "text": [
      "Model: \"model_1\"\n",
      "_________________________________________________________________\n",
      "Layer (type)                 Output Shape              Param #   \n",
      "=================================================================\n",
      "input_1 (InputLayer)         (None, 23)                0         \n",
      "_________________________________________________________________\n",
      "dense_1 (Dense)              (None, 32)                768       \n",
      "_________________________________________________________________\n",
      "dense_2 (Dense)              (None, 16)                528       \n",
      "_________________________________________________________________\n",
      "dense_3 (Dense)              (None, 16)                272       \n",
      "_________________________________________________________________\n",
      "dense_5 (Dense)              (None, 16)                272       \n",
      "_________________________________________________________________\n",
      "dense_6 (Dense)              (None, 32)                544       \n",
      "_________________________________________________________________\n",
      "dense_7 (Dense)              (None, 23)                759       \n",
      "=================================================================\n",
      "Total params: 3,143\n",
      "Trainable params: 3,143\n",
      "Non-trainable params: 0\n",
      "_________________________________________________________________\n"
     ]
    }
   ],
   "source": [
    "nb_epoch = 100\n",
    "batch_size = 128\n",
    "input_dim = X_train_0_transformed.shape[1] #num of predictor variables, \n",
    "encoding_dim = 32\n",
    "hidden_dim = int(encoding_dim / 2)\n",
    "learning_rate = 1e-3\n",
    "\n",
    "input_layer = Input(shape=(input_dim, ))\n",
    "encoder = Dense(encoding_dim, activation=\"relu\", \n",
    "                activity_regularizer=regularizers.l1(learning_rate))(input_layer)\n",
    "encoder = Dense(hidden_dim, activation=\"relu\")(encoder)\n",
    "encoder = Dense(hidden_dim, activation=\"relu\")(encoder)\n",
    "decoder = Dense(hidden_dim, activation=\"relu\")(encoder)\n",
    "decoder = Dense(hidden_dim, activation=\"relu\")(encoder)\n",
    "decoder = Dense(encoding_dim, activation=\"relu\")(decoder)\n",
    "decoder = Dense(input_dim, activation=\"linear\")(decoder)\n",
    "autoencoder = Model(inputs=input_layer, outputs=decoder)\n",
    "autoencoder.summary()"
   ]
  },
  {
   "cell_type": "markdown",
   "metadata": {},
   "source": [
    "training the autoencoder"
   ]
  },
  {
   "cell_type": "code",
   "execution_count": 67,
   "metadata": {},
   "outputs": [
    {
     "name": "stdout",
     "output_type": "stream",
     "text": [
      "Epoch 1/100\n",
      "1147966/1147966 [==============================] - 11s 10us/step - loss: 0.0642 - accuracy: 0.1725\n",
      "Epoch 2/100\n",
      "  15744/1147966 [..............................] - ETA: 13s - loss: 0.0635 - accuracy: 0.1791"
     ]
    },
    {
     "name": "stderr",
     "output_type": "stream",
     "text": [
      "/Users/yuewoo/opt/anaconda3/lib/python3.7/site-packages/keras/callbacks/callbacks.py:707: RuntimeWarning: Can save best model only with val_loss available, skipping.\n",
      "  'skipping.' % (self.monitor), RuntimeWarning)\n"
     ]
    },
    {
     "name": "stdout",
     "output_type": "stream",
     "text": [
      "1147966/1147966 [==============================] - 10s 9us/step - loss: 0.0643 - accuracy: 0.1748\n",
      "Epoch 3/100\n",
      "1147966/1147966 [==============================] - 11s 9us/step - loss: 0.0641 - accuracy: 0.1748\n",
      "Epoch 4/100\n",
      "1147966/1147966 [==============================] - 10s 9us/step - loss: 0.0643 - accuracy: 0.1751\n",
      "Epoch 5/100\n",
      "1147966/1147966 [==============================] - 11s 9us/step - loss: 0.0642 - accuracy: 0.1715\n",
      "Epoch 6/100\n",
      "1147966/1147966 [==============================] - 11s 9us/step - loss: 0.0639 - accuracy: 0.1712\n",
      "Epoch 7/100\n",
      "1147966/1147966 [==============================] - 11s 10us/step - loss: 0.0640 - accuracy: 0.1730\n",
      "Epoch 8/100\n",
      "1147966/1147966 [==============================] - 11s 9us/step - loss: 0.0639 - accuracy: 0.1720\n",
      "Epoch 9/100\n",
      "1147966/1147966 [==============================] - 10s 9us/step - loss: 0.0639 - accuracy: 0.1708\n",
      "Epoch 10/100\n",
      "1147966/1147966 [==============================] - 10s 9us/step - loss: 0.0638 - accuracy: 0.1723\n",
      "Epoch 11/100\n",
      "1147966/1147966 [==============================] - 10s 9us/step - loss: 0.0646 - accuracy: 0.1767\n",
      "Epoch 12/100\n",
      "1147966/1147966 [==============================] - 10s 9us/step - loss: 0.0640 - accuracy: 0.1776\n",
      "Epoch 13/100\n",
      "1147966/1147966 [==============================] - 10s 9us/step - loss: 0.0640 - accuracy: 0.1752\n",
      "Epoch 14/100\n",
      "1147966/1147966 [==============================] - 10s 9us/step - loss: 0.0638 - accuracy: 0.1755\n",
      "Epoch 15/100\n",
      "1147966/1147966 [==============================] - 10s 9us/step - loss: 0.0636 - accuracy: 0.1736\n",
      "Epoch 16/100\n",
      "1147966/1147966 [==============================] - 10s 9us/step - loss: 0.0631 - accuracy: 0.1684\n",
      "Epoch 17/100\n",
      "1147966/1147966 [==============================] - 10s 9us/step - loss: 0.0649 - accuracy: 0.1710\n",
      "Epoch 18/100\n",
      "1147966/1147966 [==============================] - 10s 9us/step - loss: 0.0634 - accuracy: 0.1700\n",
      "Epoch 19/100\n",
      "1147966/1147966 [==============================] - 10s 9us/step - loss: 0.0633 - accuracy: 0.1723\n",
      "Epoch 20/100\n",
      "1147966/1147966 [==============================] - 11s 9us/step - loss: 0.0630 - accuracy: 0.1714\n",
      "Epoch 21/100\n",
      "1147966/1147966 [==============================] - 10s 9us/step - loss: 0.0630 - accuracy: 0.1678\n",
      "Epoch 22/100\n",
      "1147966/1147966 [==============================] - 12s 10us/step - loss: 0.0630 - accuracy: 0.1715\n",
      "Epoch 23/100\n",
      "1147966/1147966 [==============================] - 11s 10us/step - loss: 0.0629 - accuracy: 0.1714\n",
      "Epoch 24/100\n",
      "1147966/1147966 [==============================] - 12s 10us/step - loss: 0.0632 - accuracy: 0.1728\n",
      "Epoch 25/100\n",
      "1147966/1147966 [==============================] - 10s 9us/step - loss: 0.0629 - accuracy: 0.1739\n",
      "Epoch 26/100\n",
      "1147966/1147966 [==============================] - 12s 11us/step - loss: 0.0628 - accuracy: 0.1741\n",
      "Epoch 27/100\n",
      "1147966/1147966 [==============================] - 12s 10us/step - loss: 0.0628 - accuracy: 0.1733\n",
      "Epoch 28/100\n",
      "1147966/1147966 [==============================] - 10s 9us/step - loss: 0.0628 - accuracy: 0.1741\n",
      "Epoch 29/100\n",
      "1147966/1147966 [==============================] - 12s 10us/step - loss: 0.0627 - accuracy: 0.1716\n",
      "Epoch 30/100\n",
      "1147966/1147966 [==============================] - 10s 9us/step - loss: 0.0625 - accuracy: 0.1770\n",
      "Epoch 31/100\n",
      "1147966/1147966 [==============================] - 10s 9us/step - loss: 0.0627 - accuracy: 0.1769\n",
      "Epoch 32/100\n",
      "1147966/1147966 [==============================] - 10s 9us/step - loss: 0.0628 - accuracy: 0.1798\n",
      "Epoch 33/100\n",
      "1147966/1147966 [==============================] - 10s 9us/step - loss: 0.0626 - accuracy: 0.1767\n",
      "Epoch 34/100\n",
      "1147966/1147966 [==============================] - 10s 9us/step - loss: 0.0627 - accuracy: 0.1770\n",
      "Epoch 35/100\n",
      "1147966/1147966 [==============================] - 10s 9us/step - loss: 0.0625 - accuracy: 0.1782\n",
      "Epoch 36/100\n",
      "1147966/1147966 [==============================] - 10s 9us/step - loss: 0.0625 - accuracy: 0.1771\n",
      "Epoch 37/100\n",
      "1147966/1147966 [==============================] - 10s 9us/step - loss: 0.0624 - accuracy: 0.1773\n",
      "Epoch 38/100\n",
      "1147966/1147966 [==============================] - 10s 9us/step - loss: 0.0623 - accuracy: 0.1766\n",
      "Epoch 39/100\n",
      "1147966/1147966 [==============================] - 10s 9us/step - loss: 0.0622 - accuracy: 0.1773\n",
      "Epoch 40/100\n",
      "1147966/1147966 [==============================] - 10s 9us/step - loss: 0.0632 - accuracy: 0.1766\n",
      "Epoch 41/100\n",
      "1147966/1147966 [==============================] - 10s 9us/step - loss: 0.0624 - accuracy: 0.1769\n",
      "Epoch 42/100\n",
      "1147966/1147966 [==============================] - 10s 9us/step - loss: 0.0622 - accuracy: 0.1785\n",
      "Epoch 43/100\n",
      "1147966/1147966 [==============================] - 10s 9us/step - loss: 0.0622 - accuracy: 0.1802\n",
      "Epoch 44/100\n",
      "1147966/1147966 [==============================] - 10s 9us/step - loss: 0.0623 - accuracy: 0.1783\n",
      "Epoch 45/100\n",
      "1147966/1147966 [==============================] - 10s 9us/step - loss: 0.0625 - accuracy: 0.1814\n",
      "Epoch 46/100\n",
      "1147966/1147966 [==============================] - 10s 9us/step - loss: 0.0622 - accuracy: 0.1782\n",
      "Epoch 47/100\n",
      "1147966/1147966 [==============================] - 10s 9us/step - loss: 0.0627 - accuracy: 0.1815\n",
      "Epoch 48/100\n",
      "1147966/1147966 [==============================] - 10s 9us/step - loss: 0.0628 - accuracy: 0.1807\n",
      "Epoch 49/100\n",
      "1147966/1147966 [==============================] - 11s 10us/step - loss: 0.0630 - accuracy: 0.1811\n",
      "Epoch 50/100\n",
      "1147966/1147966 [==============================] - 11s 9us/step - loss: 0.0628 - accuracy: 0.1791\n",
      "Epoch 51/100\n",
      "1147966/1147966 [==============================] - 10s 9us/step - loss: 0.0627 - accuracy: 0.1805\n",
      "Epoch 52/100\n",
      "1147966/1147966 [==============================] - 10s 9us/step - loss: 0.0627 - accuracy: 0.1808\n",
      "Epoch 53/100\n",
      "1147966/1147966 [==============================] - 10s 9us/step - loss: 0.0626 - accuracy: 0.1802\n",
      "Epoch 54/100\n",
      "1147966/1147966 [==============================] - 10s 9us/step - loss: 0.0633 - accuracy: 0.1794\n",
      "Epoch 55/100\n",
      "1147966/1147966 [==============================] - 10s 9us/step - loss: 0.0634 - accuracy: 0.1790\n",
      "Epoch 56/100\n",
      "1147966/1147966 [==============================] - 10s 9us/step - loss: 0.0630 - accuracy: 0.1779\n",
      "Epoch 57/100\n",
      "1147966/1147966 [==============================] - 10s 9us/step - loss: 0.0627 - accuracy: 0.1811\n",
      "Epoch 58/100\n",
      "1147966/1147966 [==============================] - 10s 9us/step - loss: 0.0625 - accuracy: 0.1828\n",
      "Epoch 59/100\n",
      "1147966/1147966 [==============================] - 10s 9us/step - loss: 0.0625 - accuracy: 0.1871\n",
      "Epoch 60/100\n",
      "1147966/1147966 [==============================] - 10s 9us/step - loss: 0.0624 - accuracy: 0.1866\n",
      "Epoch 61/100\n",
      "1147966/1147966 [==============================] - 10s 9us/step - loss: 0.0624 - accuracy: 0.1864\n",
      "Epoch 62/100\n",
      "1147966/1147966 [==============================] - 10s 9us/step - loss: 0.0623 - accuracy: 0.1863\n",
      "Epoch 63/100\n",
      "1147966/1147966 [==============================] - 10s 9us/step - loss: 0.0623 - accuracy: 0.1868\n",
      "Epoch 64/100\n",
      "1147966/1147966 [==============================] - 12s 10us/step - loss: 0.0625 - accuracy: 0.1864\n",
      "Epoch 00064: early stopping\n"
     ]
    }
   ],
   "source": [
    "autoencoder.compile(metrics=['accuracy'],\n",
    "                    loss='mean_squared_error',\n",
    "                    optimizer='adam')\n",
    "cp = ModelCheckpoint(filepath=\"autoencoder_classifier.h5\",\n",
    "                               save_best_only=True,\n",
    "                               verbose=0)\n",
    "es = EarlyStopping(monitor='loss', mode='min', verbose=1, patience=25)\n",
    "tb = TensorBoard(log_dir='./logs',\n",
    "                histogram_freq=0,\n",
    "                write_graph=True,\n",
    "                write_images=True)\n",
    "history = autoencoder.fit(X_train_0_transformed, X_train_0_transformed,\n",
    "                    epochs=nb_epoch,\n",
    "                    batch_size=batch_size,\n",
    "                    shuffle=True,\n",
    "                    verbose=1,\n",
    "                    callbacks=[cp, tb, es]).history"
   ]
  },
  {
   "cell_type": "code",
   "execution_count": 68,
   "metadata": {},
   "outputs": [
    {
     "data": {
      "text/plain": [
       "<matplotlib.axes._subplots.AxesSubplot at 0x7fdd9f4371d0>"
      ]
     },
     "execution_count": 68,
     "metadata": {},
     "output_type": "execute_result"
    },
    {
     "data": {
      "image/png": "[encoded data removed]",
      "text/plain": [
       "<Figure size 432x288 with 1 Axes>"
      ]
     },
     "metadata": {
      "needs_background": "light"
     },
     "output_type": "display_data"
    }
   ],
   "source": [
    "pd.DataFrame(history).plot()"
   ]
  },
  {
   "cell_type": "markdown",
   "metadata": {},
   "source": [
    "define the threshold using PRC "
   ]
  },
  {
   "cell_type": "code",
   "execution_count": 59,
   "metadata": {},
   "outputs": [
    {
     "name": "stderr",
     "output_type": "stream",
     "text": [
      "/Users/yuewoo/opt/anaconda3/lib/python3.7/site-packages/IPython/core/pylabtools.py:128: UserWarning: Creating legend with loc=\"best\" can be slow with large amounts of data.\n",
      "  fig.canvas.print_figure(bytes_io, **kw)\n"
     ]
    },
    {
     "data": {
      "image/png": "[encoded data removed]",
      "text/plain": [
       "<Figure size 432x288 with 1 Axes>"
      ]
     },
     "metadata": {
      "needs_background": "light"
     },
     "output_type": "display_data"
    }
   ],
   "source": [
    "valid_x_predictions = autoencoder.predict(X_val_transformed)\n",
    "mse = np.mean(np.power(X_val_transformed - valid_x_predictions, 2), axis=1)\n",
    "error_df = pd.DataFrame({'Reconstruction_error': mse,\n",
    "                        'True_class': y_val})\n",
    "precision_rt, recall_rt, threshold_rt = precision_recall_curve(error_df.True_class, error_df.Reconstruction_error)\n",
    "plt.plot(threshold_rt, precision_rt[1:], label=\"Precision\",linewidth=5)\n",
    "plt.plot(threshold_rt, recall_rt[1:], label=\"Recall\",linewidth=5)\n",
    "plt.title('Precision and recall for different threshold values')\n",
    "plt.xlabel('Threshold')\n",
    "plt.ylabel('Precision/Recall')\n",
    "plt.legend()\n",
    "plt.show()"
   ]
  },
  {
   "cell_type": "code",
   "execution_count": 60,
   "metadata": {},
   "outputs": [
    {
     "data": {
      "image/png": "[encoded data removed]",
      "text/plain": [
       "<Figure size 432x288 with 1 Axes>"
      ]
     },
     "metadata": {
      "needs_background": "light"
     },
     "output_type": "display_data"
    }
   ],
   "source": [
    "valid_x_predictions = autoencoder.predict(X_val_transformed)\n",
    "mse = np.mean(np.power(X_val_transformed - valid_x_predictions, 2), axis=1)\n",
    "error_df_test = pd.DataFrame({'Reconstruction_error': mse,\n",
    "                        'True_class': y_val})\n",
    "error_df_test = error_df_test.reset_index()\n",
    "threshold_fixed = 0.2\n",
    "groups = error_df_test.groupby('True_class')\n",
    "fig, ax = plt.subplots()\n",
    "for name, group in groups:\n",
    "    ax.plot(group.index, group.Reconstruction_error, marker='o', ms=3.5, linestyle='',\n",
    "            label= \"Break\" if name == 1 else \"Normal\")\n",
    "ax.hlines(threshold_fixed, ax.get_xlim()[0], ax.get_xlim()[1], colors=\"r\", zorder=100, label='Threshold')\n",
    "ax.legend()\n",
    "plt.title(\"Reconstruction error for different classes\")\n",
    "plt.ylabel(\"Reconstruction error\")\n",
    "plt.xlabel(\"Data point index\")\n",
    "plt.show();"
   ]
  },
  {
   "cell_type": "code",
   "execution_count": 61,
   "metadata": {},
   "outputs": [
    {
     "data": {
      "image/png": "[encoded data removed]",
      "text/plain": [
       "<Figure size 360x360 with 2 Axes>"
      ]
     },
     "metadata": {
      "needs_background": "light"
     },
     "output_type": "display_data"
    }
   ],
   "source": [
    "LABELS = [\"Normal\",\"Sepsis\"]\n",
    "\n",
    "pred_y = [1 if e > threshold_fixed else 0 for e in error_df.Reconstruction_error.values]\n",
    "conf_matrix = confusion_matrix(error_df.True_class, pred_y)\n",
    "plt.figure(figsize=(5, 5))\n",
    "sns.heatmap(conf_matrix, annot=True, fmt=\"d\");\n",
    "plt.title(\"Confusion matrix for Autoencoder\")\n",
    "plt.ylabel('True class')\n",
    "plt.xlabel('Predicted class')\n",
    "plt.show()"
   ]
  },
  {
   "cell_type": "code",
   "execution_count": 69,
   "metadata": {},
   "outputs": [
    {
     "data": {
      "text/html": [
       "<div>\n",
       "<style scoped>\n",
       "    .dataframe tbody tr th:only-of-type {\n",
       "        vertical-align: middle;\n",
       "    }\n",
       "\n",
       "    .dataframe tbody tr th {\n",
       "        vertical-align: top;\n",
       "    }\n",
       "\n",
       "    .dataframe thead th {\n",
       "        text-align: right;\n",
       "    }\n",
       "</style>\n",
       "<table border=\"1\" class=\"dataframe\">\n",
       "  <thead>\n",
       "    <tr style=\"text-align: right;\">\n",
       "      <th></th>\n",
       "      <th>model</th>\n",
       "      <th>precision</th>\n",
       "      <th>recall</th>\n",
       "      <th>avg_precision</th>\n",
       "      <th>f1</th>\n",
       "      <th>roc_auc</th>\n",
       "    </tr>\n",
       "  </thead>\n",
       "  <tbody>\n",
       "    <tr>\n",
       "      <td>0</td>\n",
       "      <td>Autoencoder</td>\n",
       "      <td>0.053191</td>\n",
       "      <td>0.025878</td>\n",
       "      <td>0.015127</td>\n",
       "      <td>0.034817</td>\n",
       "      <td>0.509641</td>\n",
       "    </tr>\n",
       "  </tbody>\n",
       "</table>\n",
       "</div>"
      ],
      "text/plain": [
       "         model  precision    recall  avg_precision        f1   roc_auc\n",
       "0  Autoencoder   0.053191  0.025878       0.015127  0.034817  0.509641"
      ]
     },
     "execution_count": 69,
     "metadata": {},
     "output_type": "execute_result"
    }
   ],
   "source": [
    "score_model('Autoencoder', ['precision','recall','avg_precision','f1','roc_auc'],\n",
    "            y_val, pred)"
   ]
  },
  {
   "cell_type": "code",
   "execution_count": 70,
   "metadata": {},
   "outputs": [
    {
     "data": {
      "text/html": [
       "<div>\n",
       "<style scoped>\n",
       "    .dataframe tbody tr th:only-of-type {\n",
       "        vertical-align: middle;\n",
       "    }\n",
       "\n",
       "    .dataframe tbody tr th {\n",
       "        vertical-align: top;\n",
       "    }\n",
       "\n",
       "    .dataframe thead th {\n",
       "        text-align: right;\n",
       "    }\n",
       "</style>\n",
       "<table border=\"1\" class=\"dataframe\">\n",
       "  <thead>\n",
       "    <tr style=\"text-align: right;\">\n",
       "      <th></th>\n",
       "      <th>model</th>\n",
       "      <th>precision</th>\n",
       "      <th>recall</th>\n",
       "      <th>avg_precision</th>\n",
       "      <th>f1</th>\n",
       "      <th>roc_auc</th>\n",
       "    </tr>\n",
       "  </thead>\n",
       "  <tbody>\n",
       "    <tr>\n",
       "      <td>0</td>\n",
       "      <td>Autoencoder</td>\n",
       "      <td>0.053191</td>\n",
       "      <td>0.025878</td>\n",
       "      <td>0.015127</td>\n",
       "      <td>0.034817</td>\n",
       "      <td>0.509641</td>\n",
       "    </tr>\n",
       "  </tbody>\n",
       "</table>\n",
       "</div>"
      ],
      "text/plain": [
       "         model  precision    recall  avg_precision        f1   roc_auc\n",
       "0  Autoencoder   0.053191  0.025878       0.015127  0.034817  0.509641"
      ]
     },
     "execution_count": 70,
     "metadata": {},
     "output_type": "execute_result"
    }
   ],
   "source": [
    "score_model('Logistic_regression', ['precision','recall','avg_precision','f1','roc_auc'],\n",
    "            y_val, pred)\n",
    "score_model('Decision_Tree', ['precision','recall','avg_precision','f1','roc_auc'],\n",
    "            y_val, pred)\n",
    "score_model('Gradient Boosting', ['precision','recall','avg_precision','f1','roc_auc'],\n",
    "            y_val, pred)\n",
    "score_model('Random Forest', ['precision','recall','avg_precision','f1','roc_auc'],\n",
    "            y_val, pred)\n",
    "score_model('Light GBM', ['precision','recall','avg_precision','f1','roc_auc'],\n",
    "            y_val, pred)\n",
    "score_model('Autoencoder', ['precision','recall','avg_precision','f1','roc_auc'],\n",
    "            y_val, pred)"
   ]
  },
  {
   "cell_type": "code",
   "execution_count": null,
   "metadata": {},
   "outputs": [],
   "source": []
  }
 ],
 "metadata": {
  "kernelspec": {
   "display_name": "Python 3",
   "language": "python",
   "name": "python3"
  },
  "language_info": {
   "codemirror_mode": {
    "name": "ipython",
    "version": 3
   },
   "file_extension": ".py",
   "mimetype": "text/x-python",
   "name": "python",
   "nbconvert_exporter": "python",
   "pygments_lexer": "ipython3",
   "version": "3.7.4"
  }
 },
 "nbformat": 4,
 "nbformat_minor": 2
}
